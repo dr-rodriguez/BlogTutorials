{
 "cells": [
  {
   "cell_type": "markdown",
   "metadata": {},
   "source": [
    "# Data Classes and MongoDB\n",
    "\n",
    "In this notebook, I will briefly describe how to set up some simple, astronomically-significant data classes and load them into a MongoDB NoSQL database for future use.\n",
    "\n",
    "To run this notebook, you need to run `Python 3.7` or later and have `pymongo` installed."
   ]
  },
  {
   "cell_type": "markdown",
   "metadata": {},
   "source": [
    "### Data Classes\n",
    "\n",
    "Data classes were introduced in Python 3.7 and offer an easy way to quickly create python classes for storing rich, structured data. Let's create a simple class to store brown dwarf objects."
   ]
  },
  {
   "cell_type": "code",
   "execution_count": 1,
   "metadata": {},
   "outputs": [],
   "source": [
    "from dataclasses import dataclass, field, asdict\n",
    "\n",
    "@dataclass\n",
    "class BrownDwarf_v0:\n",
    "    name: str\n",
    "    ra: float\n",
    "    dec: float\n",
    "    name_list: list = field(default_factory=list)"
   ]
  },
  {
   "cell_type": "code",
   "execution_count": 2,
   "metadata": {},
   "outputs": [],
   "source": [
    "bd = BrownDwarf_v0(name='1207-3932', ra=181.889, dec=-39.548)\n",
    "bd.name_list = ['TWA 27', '2MASS J12073346-3932539']"
   ]
  },
  {
   "cell_type": "code",
   "execution_count": 3,
   "metadata": {},
   "outputs": [
    {
     "data": {
      "text/plain": [
       "BrownDwarf_v0(name='1207-3932', ra=181.889, dec=-39.548, name_list=['TWA 27', '2MASS J12073346-3932539'])"
      ]
     },
     "execution_count": 3,
     "metadata": {},
     "output_type": "execute_result"
    }
   ],
   "source": [
    "bd"
   ]
  },
  {
   "cell_type": "markdown",
   "metadata": {},
   "source": [
    "As an alternative, you can have a separate dataclass to store the ra/dec information:"
   ]
  },
  {
   "cell_type": "code",
   "execution_count": 4,
   "metadata": {},
   "outputs": [],
   "source": [
    "@dataclass\n",
    "class Coords:\n",
    "    ra: float\n",
    "    dec: float\n",
    "        \n",
    "@dataclass\n",
    "class BrownDwarf_v1:\n",
    "    name: str\n",
    "    coords: Coords\n",
    "    name_list: list = field(default_factory=list)"
   ]
  },
  {
   "cell_type": "code",
   "execution_count": 5,
   "metadata": {},
   "outputs": [
    {
     "name": "stdout",
     "output_type": "stream",
     "text": [
      "BrownDwarf_v1(name='1207-3932', coords=Coords(ra=181.889, dec=-39.548), name_list=[])\n"
     ]
    }
   ],
   "source": [
    "c = Coords(ra=181.889, dec=-39.548)\n",
    "bd = BrownDwarf_v1(name='1207-3932', coords=c)\n",
    "print(bd)"
   ]
  },
  {
   "cell_type": "markdown",
   "metadata": {},
   "source": [
    "Or get even fancier and store an astropy SkyCoords object, if you wanted:"
   ]
  },
  {
   "cell_type": "code",
   "execution_count": 6,
   "metadata": {},
   "outputs": [],
   "source": [
    "from astropy.coordinates import SkyCoord\n",
    "import astropy.units as u\n",
    "\n",
    "@dataclass\n",
    "class BrownDwarf_v2:\n",
    "    name: str\n",
    "    coords: SkyCoord\n",
    "    name_list: list = field(default_factory=list)"
   ]
  },
  {
   "cell_type": "code",
   "execution_count": 7,
   "metadata": {},
   "outputs": [
    {
     "name": "stdout",
     "output_type": "stream",
     "text": [
      "BrownDwarf_v2(name='1207-3932', coords=<SkyCoord (ICRS): (ra, dec) in deg\n",
      "    (181.889, -39.548)>, name_list=[])\n"
     ]
    }
   ],
   "source": [
    "s = SkyCoord(ra=181.889*u.deg, dec=-39.548*u.deg)\n",
    "bd = BrownDwarf_v2(name='1207-3932', coords=s)\n",
    "print(bd)"
   ]
  },
  {
   "cell_type": "markdown",
   "metadata": {},
   "source": [
    "As a SkyCoord object, you get all the usual functionality you expect. For example, you can quickly check the constellation:"
   ]
  },
  {
   "cell_type": "code",
   "execution_count": 8,
   "metadata": {},
   "outputs": [
    {
     "name": "stdout",
     "output_type": "stream",
     "text": [
      "Centaurus\n"
     ]
    }
   ],
   "source": [
    "print(bd.coords.get_constellation())"
   ]
  },
  {
   "cell_type": "markdown",
   "metadata": {},
   "source": [
    "For the purposes of this demo, I'll stick to using custom-built objects to store my data.\n",
    "Let's define a more complete example to work with:"
   ]
  },
  {
   "cell_type": "code",
   "execution_count": 9,
   "metadata": {},
   "outputs": [],
   "source": [
    "@dataclass\n",
    "class Coords:\n",
    "    ra: float\n",
    "    dec: float\n",
    "        \n",
    "@dataclass\n",
    "class Photometry:\n",
    "    value: float\n",
    "    error: float\n",
    "    unit: str = 'mag'\n",
    "        \n",
    "@dataclass\n",
    "class BrownDwarf:\n",
    "    source_id: int\n",
    "    name: str\n",
    "    coords: Coords\n",
    "    J: Photometry = None\n",
    "    H: Photometry = None\n",
    "    Ks: Photometry = None\n",
    "    spectral_type: str = None\n",
    "    name_list: list = field(default_factory=list)"
   ]
  },
  {
   "cell_type": "code",
   "execution_count": 10,
   "metadata": {},
   "outputs": [
    {
     "name": "stdout",
     "output_type": "stream",
     "text": [
      "BrownDwarf(source_id=11, name='1207-3932', coords=Coords(ra=181.889, dec=-39.548), J=Photometry(value=12.99, error=0.03, unit='mag'), H=Photometry(value=12.39, error=0.03, unit='mag'), Ks=Photometry(value=11.95, error=0.03, unit='mag'), spectral_type='M8.0', name_list=['TWA 27', '2MASS J12073346-3932539'])\n"
     ]
    }
   ],
   "source": [
    "c = Coords(ra=181.889, dec=-39.548)\n",
    "# 2MASS_J: 12.99 +/- 0.03\n",
    "# 2MASS_H: 12.39 +/- 0.03\n",
    "# 2MASS_Ks: 11.95 +/- 0.03\n",
    "j = Photometry(12.99, 0.03)\n",
    "bd = BrownDwarf(source_id=11, name='1207-3932', coords=c,\n",
    "               J = Photometry(12.99, 0.03),\n",
    "               H = Photometry(12.39, 0.03),\n",
    "               Ks = Photometry(11.95, 0.03))\n",
    "bd.name_list = ['TWA 27', '2MASS J12073346-3932539']\n",
    "bd.spectral_type = 'M8.0'\n",
    "print(bd)"
   ]
  },
  {
   "cell_type": "markdown",
   "metadata": {},
   "source": [
    "Now that we have a representation of the basic parameters we want to store for our object, we can loop over some table or input the values we need to store. At some point, though, we'll want to save our work in some more concrete fashion. For that, we'll use JSON and the `asdict` function in dataclasses, which is similar to the built-in class method of `__dict__`:"
   ]
  },
  {
   "cell_type": "code",
   "execution_count": 11,
   "metadata": {},
   "outputs": [
    {
     "data": {
      "text/plain": [
       "{'source_id': 11,\n",
       " 'name': '1207-3932',\n",
       " 'coords': {'ra': 181.889, 'dec': -39.548},\n",
       " 'J': {'value': 12.99, 'error': 0.03, 'unit': 'mag'},\n",
       " 'H': {'value': 12.39, 'error': 0.03, 'unit': 'mag'},\n",
       " 'Ks': {'value': 11.95, 'error': 0.03, 'unit': 'mag'},\n",
       " 'spectral_type': 'M8.0',\n",
       " 'name_list': ['TWA 27', '2MASS J12073346-3932539']}"
      ]
     },
     "execution_count": 11,
     "metadata": {},
     "output_type": "execute_result"
    }
   ],
   "source": [
    "asdict(bd)\n",
    "#bd.__dict__"
   ]
  },
  {
   "cell_type": "markdown",
   "metadata": {},
   "source": [
    "This is a dictionary representation of our object. To make it even more human-readable we can use the `json` package:"
   ]
  },
  {
   "cell_type": "code",
   "execution_count": 12,
   "metadata": {},
   "outputs": [
    {
     "name": "stdout",
     "output_type": "stream",
     "text": [
      "{\n",
      "    \"source_id\": 11,\n",
      "    \"name\": \"1207-3932\",\n",
      "    \"coords\": {\n",
      "        \"ra\": 181.889,\n",
      "        \"dec\": -39.548\n",
      "    },\n",
      "    \"J\": {\n",
      "        \"value\": 12.99,\n",
      "        \"error\": 0.03,\n",
      "        \"unit\": \"mag\"\n",
      "    },\n",
      "    \"H\": {\n",
      "        \"value\": 12.39,\n",
      "        \"error\": 0.03,\n",
      "        \"unit\": \"mag\"\n",
      "    },\n",
      "    \"Ks\": {\n",
      "        \"value\": 11.95,\n",
      "        \"error\": 0.03,\n",
      "        \"unit\": \"mag\"\n",
      "    },\n",
      "    \"spectral_type\": \"M8.0\",\n",
      "    \"name_list\": [\n",
      "        \"TWA 27\",\n",
      "        \"2MASS J12073346-3932539\"\n",
      "    ]\n",
      "}\n"
     ]
    }
   ],
   "source": [
    "import json\n",
    "\n",
    "print(json.dumps(asdict(bd), default=lambda x: x.__dict__, indent=4))"
   ]
  },
  {
   "cell_type": "markdown",
   "metadata": {},
   "source": [
    "In the above example, I used `default= lambda x: x.__dict__` to tell json.dumps that by default it should attempt to use the dictionary representation of classes if it found cases it could not understand. This, or something similar, is needed to recursively convert any nested dataclasses you may have built (such as Photometry and Coords)"
   ]
  },
  {
   "cell_type": "markdown",
   "metadata": {},
   "source": [
    "### MongoDB\n",
    "\n",
    "You may be wondering why use JSON at all? Why not just flatten it out and write a long table? The reason is that I want to use MongoDB to store my data. MongoDB is a NoSQL database that relies on JSON to store its documents. In fact, it's explicitly a type of database known as a document-store. By representing my data as JSON, I have a format that I can directly store into MongoDB without any major work.\n",
    "\n",
    "You can download a free copy of MongoDB from [https://www.mongodb.com/](https://www.mongodb.com/) and can run a server locally on your machine, which is what I've done. Alternatively you can connect to a Cloud instance, if you have access to one already or sign up for their Atlas service."
   ]
  },
  {
   "cell_type": "markdown",
   "metadata": {},
   "source": [
    "Let's connect to a local MongoDB server instance; you may need to start this instance separately, refer to the mongodb documentation. In my case, I had to run `mongod --dbpath PATH-TO-DB-DIR` in a Bash terminal, where `PATH-TO-DB-DIR` is the directory where I store my mongodb databases:"
   ]
  },
  {
   "cell_type": "code",
   "execution_count": 13,
   "metadata": {},
   "outputs": [],
   "source": [
    "import pymongo\n",
    "\n",
    "client = pymongo.MongoClient()  # default connection (ie, local)"
   ]
  },
  {
   "cell_type": "markdown",
   "metadata": {},
   "source": [
    "Now, we can specify the database we'd like to use, as well as the *collection*. A MongoDB collection is the equivalent of a table in relational databases like SQL. Each collection is built up of multiple documents (equivalent to rows or entries). Unlike relational database, neither the database or collection is required to exist prior to loading documents into it. If one doesn't exist, it will be created when you load your first document. If you've been running this tutorial several times, you may already have a collection. If you want to clear it you can use the `.drop()` method on it."
   ]
  },
  {
   "cell_type": "code",
   "execution_count": 14,
   "metadata": {},
   "outputs": [],
   "source": [
    "db_name = 'test'\n",
    "db = client[db_name]  # database\n",
    "dwarfs = db.dwarfs  # collection; can also call as db['dwarfs']\n",
    "dwarfs.drop()  # drop collection, if needed"
   ]
  },
  {
   "cell_type": "markdown",
   "metadata": {},
   "source": [
    "Now, let's load up that JSON representation of the brown dwarf we saved (we need an actual JSON object, not the string representation we produced before):"
   ]
  },
  {
   "cell_type": "code",
   "execution_count": 15,
   "metadata": {},
   "outputs": [],
   "source": [
    "json_data = json.loads(json.dumps(asdict(bd), default=lambda x: x.__dict__))\n",
    "result = dwarfs.insert_one(json_data)"
   ]
  },
  {
   "cell_type": "markdown",
   "metadata": {},
   "source": [
    "### Example Data Load\n",
    "\n",
    "Let's load up a bunch of data first so we can better explore how to use mongodb. Here is a small sample of data from the BDNYC Brown Dwarf database. For simplicity, I've only included J and H 2MASS data and only a single spectral type estimate. For more details on the BDNYC database, I'll refer you to [http://database.bdnyc.org](http://database.bdnyc.org)"
   ]
  },
  {
   "cell_type": "code",
   "execution_count": 16,
   "metadata": {},
   "outputs": [],
   "source": [
    "bddata = \"\"\"#id\tsname\tra\tdec\tsptype\tJ\tJ_err\tH\tH_err\tnames\n",
    "2\t1331-0116\t202.95387\t-1.280556\t16\t15.46\t0.04\t14.47\t0.04\tSDSS J133148.92-011651.4, 2MASS J13314894-0116500\n",
    "4\t1448+1031\t222.106791\t10.533056\t13.5\t14.556\t0.034\t13.433\t0.033\t2MASS J14482563+1031590, 2MASSW J1448256+103159, SDSS J144825.69+103158.8, 2MUCD 20587, ULAS2MASS J1448+1031, 2MASSW J1448256+103159\n",
    "7\t1439+1929\t219.868167\t19.487472\t11\t12.759\t0.019\t12.041\t0.019\t2MASS J14392837+1929150, 2MASSW J1439284+192915\n",
    "14\t2249+0044\t342.472709\t0.734611\t11\t16.587\t0.125\t15.421\t0.109\tSDSSp J224953.45+004404.2, 2M2249+0044\n",
    "15\t2208+2921\t332.05679\t29.355972\t13\t15.797\t0.085\t14.793\t0.071\t2MASSW J2208136+292121, 2MASS J22081363+2921215, 2MASSW J2208136+292121\n",
    "17\t0027+0503\t6.924875\t5.061583\t8\t16.189\t0.093\t15.288\t0.099\t2MASS J00274197+0503417, PC 0025+0447\n",
    "19\t2148+4003\t327.068041\t40.0665\t16\t14.147\t0.029\t12.783\t0.03\t2MASS J21481628+4003593, 2MASS J21481633+4003594, 2MASS J21481633+4003594, 2MASSW J2148162+400359, 2MASS J21481628+4003593\n",
    "20\t1102-3430\t165.54097\t-34.509869\t8.5\t13.034\t0.024\t12.356\t0.022\tTWA 28, 2MASS J11020983-3430355, SSSPM 1102-3431\n",
    "32\t0415-0935\t63.831417\t-9.585167\t28\t15.695\t0.058\t15.537\t0.113\t2MASSI J0415195-093506, 2MASS J04151954-0935066, WISEP J041521.20-093500.6\n",
    "34\t0727+1710\t111.826001\t17.167\t27\t15.6\t0.061\t15.756\t0.171\t2MASSI J0727182+171001, 2MASS J07271824+1710012, WISEP J072719.13+170952.0, LEHPM 2-461\n",
    "36\t0451-3402\t72.753833\t-34.0375\t10.5\t13.541\t0.023\t12.826\t0.023\t2MASSI J0451009-340214, V* SY Cae, 2MASS J04510093-3402150, 2MASSI J0451009-340214\n",
    "53\t1515+4847\t228.753459\t48.794889\t16\t14.111\t0.029\t13.099\t0.031\t2MASSW J1515008+484742, 2MASS J15150083+4847416, SDSS J151500.62+484744.8, 2MUCD 11314\n",
    "61\t1245-4429\t191.309\t-44.485477\t9\t14.518\t0.032\t13.8\t0.033\tTWA 29, 2MASS J12451416-4429077, DENIS J124514.1-442907\n",
    "63\t0334-4953\t53.537667\t-49.893944\t9\t11.376\t0.023\t10.823\t0.026\t2MASS J03341218-4953322, DENIS-P J033411.3-495333, 2MASSI J0334114-495334, LEHPM 3396\n",
    "80\t1552+2948\t238.24591\t29.81342\t10\t13.478\t0.026\t12.606\t0.026\t2MASSW J1552591+294849, 2MASS J15525906+2948485, 2MASSW J1552591+294849, SDSS J155259.01+294848.3\n",
    "82\t1835+3259\t278.90792\t32.998497\t8.5\t10.27\t0.022\t9.617\t0.021\t2MASS J18353790+3259545, LSR J1835+3259\n",
    "83\t1547-2423\t236.94662\t-24.397028\t9\t13.97\t0.029\t13.271\t0.034\t2MASS J15474719-2423493, DENIS J154747.2-242349\n",
    "86\t0036+1821\t9.067376\t18.352889\t13.5\t12.466\t0.027\t11.588\t0.03\t2MASSW J0036159+182110, 2MASS J00361617+1821104\n",
    "91\t0518-2756\t79.692333\t-27.946028\t10\t15.262\t0.043\t14.295\t0.046\t2MASS J05184616-2756457, 2MASS J05184616-2756457, 2MASSI J0518461-275645, 2MUCD 10381\n",
    "96\t0248-1651\t42.170846\t-16.856022\t8\t12.551\t0.022\t11.872\t0.022\tLP 771-21, 2MASS J02484096-1651249, BR 0246-1703, WISEP J024840.95-165124.8\n",
    "98\t0241-0326\t40.297958\t-3.449639\t10\t15.799\t0.065\t14.811\t0.053\t2MASS J02411151-0326587, 2MASS J02411151-0326587, 2MASSI J0241115-032658\"\"\""
   ]
  },
  {
   "cell_type": "code",
   "execution_count": 17,
   "metadata": {},
   "outputs": [],
   "source": [
    "data = []\n",
    "for row in bddata.split('\\n'):\n",
    "    if row.startswith('#'): continue\n",
    "    elems = row.split('\\t')\n",
    "    \n",
    "    # Format the spectral type\n",
    "    spnum = float(elems[4])\n",
    "    if spnum >= 20:\n",
    "        sptype = 'T{:3.1f}'.format(spnum-20)\n",
    "    elif spnum >= 10:\n",
    "        sptype = 'L{:3.1f}'.format(spnum-10)\n",
    "    else:\n",
    "        sptype = 'M{:3.1f}'.format(spnum)\n",
    "        \n",
    "    temp = BrownDwarf(source_id=int(elems[0]),\n",
    "                      name=elems[1], \n",
    "                      coords=Coords(ra=float(elems[2]), dec=float(elems[3])),\n",
    "                      spectral_type=sptype,\n",
    "                      J=Photometry(value=float(elems[5]), error=float(elems[6])),\n",
    "                      H=Photometry(value=float(elems[7]), error=float(elems[8])),\n",
    "                      name_list=elems[9].split(',')\n",
    "                     )\n",
    "    data.append(temp)"
   ]
  },
  {
   "cell_type": "markdown",
   "metadata": {},
   "source": [
    "Now, if we check the data variable we can see that it is *literally* a `list` of `BrownDwarf`s:"
   ]
  },
  {
   "cell_type": "code",
   "execution_count": 18,
   "metadata": {},
   "outputs": [
    {
     "name": "stdout",
     "output_type": "stream",
     "text": [
      "BrownDwarf(source_id=2, name='1331-0116', coords=Coords(ra=202.95387, dec=-1.280556), J=Photometry(value=15.46, error=0.04, unit='mag'), H=Photometry(value=14.47, error=0.04, unit='mag'), Ks=None, spectral_type='L6.0', name_list=['SDSS J133148.92-011651.4', ' 2MASS J13314894-0116500'])\n",
      "BrownDwarf(source_id=4, name='1448+1031', coords=Coords(ra=222.106791, dec=10.533056), J=Photometry(value=14.556, error=0.034, unit='mag'), H=Photometry(value=13.433, error=0.033, unit='mag'), Ks=None, spectral_type='L3.5', name_list=['2MASS J14482563+1031590', ' 2MASSW J1448256+103159', ' SDSS J144825.69+103158.8', ' 2MUCD 20587', ' ULAS2MASS J1448+1031', ' 2MASSW J1448256+103159'])\n",
      "BrownDwarf(source_id=7, name='1439+1929', coords=Coords(ra=219.868167, dec=19.487472), J=Photometry(value=12.759, error=0.019, unit='mag'), H=Photometry(value=12.041, error=0.019, unit='mag'), Ks=None, spectral_type='L1.0', name_list=['2MASS J14392837+1929150', ' 2MASSW J1439284+192915'])\n",
      "BrownDwarf(source_id=14, name='2249+0044', coords=Coords(ra=342.472709, dec=0.734611), J=Photometry(value=16.587, error=0.125, unit='mag'), H=Photometry(value=15.421, error=0.109, unit='mag'), Ks=None, spectral_type='L1.0', name_list=['SDSSp J224953.45+004404.2', ' 2M2249+0044'])\n",
      "BrownDwarf(source_id=15, name='2208+2921', coords=Coords(ra=332.05679, dec=29.355972), J=Photometry(value=15.797, error=0.085, unit='mag'), H=Photometry(value=14.793, error=0.071, unit='mag'), Ks=None, spectral_type='L3.0', name_list=['2MASSW J2208136+292121', ' 2MASS J22081363+2921215', ' 2MASSW J2208136+292121'])\n"
     ]
    }
   ],
   "source": [
    "for i, row in enumerate(data):\n",
    "    if i>4: break  # only display the first 5\n",
    "    print(row)"
   ]
  },
  {
   "cell_type": "markdown",
   "metadata": {},
   "source": [
    "We can now loop over these and load them up into our database. One thing I do here is check the source_id value first to avoid re-inserting an existing brown dwarf (since the source_id's are unique in the core BDNYC database). It's an optional step I take to avoid duplicated documents."
   ]
  },
  {
   "cell_type": "code",
   "execution_count": 19,
   "metadata": {},
   "outputs": [],
   "source": [
    "for row in data:\n",
    "    source_id = row.source_id\n",
    "    json_data = json.loads(json.dumps(asdict(row), default=lambda x: x.__dict__))\n",
    "    \n",
    "    count = dwarfs.count_documents({'source_id': source_id})\n",
    "\n",
    "    if count > 0:\n",
    "        # Replace existing\n",
    "        cursor = dwarfs.find({'source_id': source_id})\n",
    "        for doc in cursor:\n",
    "            result = dwarfs.replace_one({'_id': doc['_id']}, json_data)\n",
    "    else:\n",
    "        # Insert new\n",
    "        result = dwarfs.insert_one(json_data)"
   ]
  },
  {
   "cell_type": "markdown",
   "metadata": {},
   "source": [
    "### Database Queries\n",
    "\n",
    "Now, we can examine the data in the database with standard MongoDB queries. Below are a few examples, but I encourage you to read through the [MongoDB](https://docs.mongodb.com/manual/tutorial/query-documents/) and [pymongo](http://api.mongodb.com/python/current/index.html) documentation for more details. Note that the `_id` field is automatically generated by MongoDB when storing the document."
   ]
  },
  {
   "cell_type": "code",
   "execution_count": 20,
   "metadata": {},
   "outputs": [
    {
     "name": "stdout",
     "output_type": "stream",
     "text": [
      "Total documents:  22\n",
      "{'_id': ObjectId('5cd862122a37510c615e69c8'), 'source_id': 11, 'name': '1207-3932', 'coords': {'ra': 181.889, 'dec': -39.548}, 'J': {'value': 12.99, 'error': 0.03, 'unit': 'mag'}, 'H': {'value': 12.39, 'error': 0.03, 'unit': 'mag'}, 'Ks': {'value': 11.95, 'error': 0.03, 'unit': 'mag'}, 'spectral_type': 'M8.0', 'name_list': ['TWA 27', '2MASS J12073346-3932539']}\n",
      "{'_id': ObjectId('5cd862122a37510c615e69ce'), 'source_id': 17, 'name': '0027+0503', 'coords': {'ra': 6.924875, 'dec': 5.061583}, 'J': {'value': 16.189, 'error': 0.093, 'unit': 'mag'}, 'H': {'value': 15.288, 'error': 0.099, 'unit': 'mag'}, 'Ks': None, 'spectral_type': 'M8.0', 'name_list': ['2MASS J00274197+0503417', ' PC 0025+0447']}\n",
      "{'_id': ObjectId('5cd862122a37510c615e69dc'), 'source_id': 96, 'name': '0248-1651', 'coords': {'ra': 42.170846, 'dec': -16.856022}, 'J': {'value': 12.551, 'error': 0.022, 'unit': 'mag'}, 'H': {'value': 11.872, 'error': 0.022, 'unit': 'mag'}, 'Ks': None, 'spectral_type': 'M8.0', 'name_list': ['LP 771-21', ' 2MASS J02484096-1651249', ' BR 0246-1703', ' WISEP J024840.95-165124.8']}\n"
     ]
    }
   ],
   "source": [
    "count = dwarfs.count_documents({})\n",
    "print('Total documents: ', count)\n",
    "cursor = dwarfs.find({'spectral_type': 'M8.0'})\n",
    "for doc in cursor:\n",
    "    print(doc)"
   ]
  },
  {
   "cell_type": "markdown",
   "metadata": {},
   "source": [
    "We can 'project', or return only the fields we are interested in by suppling a second parameter to our queries:"
   ]
  },
  {
   "cell_type": "code",
   "execution_count": 21,
   "metadata": {},
   "outputs": [
    {
     "name": "stdout",
     "output_type": "stream",
     "text": [
      "{'source_id': 11, 'name': '1207-3932', 'spectral_type': 'M8.0'}\n",
      "{'source_id': 17, 'name': '0027+0503', 'spectral_type': 'M8.0'}\n",
      "{'source_id': 96, 'name': '0248-1651', 'spectral_type': 'M8.0'}\n"
     ]
    }
   ],
   "source": [
    "cursor = dwarfs.find({'spectral_type': 'M8.0'}, {'_id':0, 'source_id': 1, 'name': 1, 'spectral_type': 1})\n",
    "for doc in cursor:\n",
    "    print(doc)"
   ]
  },
  {
   "cell_type": "markdown",
   "metadata": {},
   "source": [
    "With a large dataset, you can create indices to better search for your data. The index will update as more data is added to it. Or you can always drop and re-create it. Here's an example of creating a text index on the name and name_list fields:"
   ]
  },
  {
   "cell_type": "code",
   "execution_count": 22,
   "metadata": {},
   "outputs": [
    {
     "data": {
      "text/plain": [
       "'text_fields'"
      ]
     },
     "execution_count": 22,
     "metadata": {},
     "output_type": "execute_result"
    }
   ],
   "source": [
    "#dwarfs.drop_index('text_fields')\n",
    "dwarfs.create_index([('name', pymongo.TEXT),\n",
    "                     ('name_list', pymongo.TEXT)],\n",
    "                      name='text_fields',\n",
    "                      background=True)"
   ]
  },
  {
   "cell_type": "code",
   "execution_count": 23,
   "metadata": {},
   "outputs": [
    {
     "name": "stdout",
     "output_type": "stream",
     "text": [
      "{'name': '1245-4429', 'name_list': ['TWA 29', ' 2MASS J12451416-4429077', ' DENIS J124514.1-442907']}\n",
      "{'name': '1102-3430', 'name_list': ['TWA 28', ' 2MASS J11020983-3430355', ' SSSPM 1102-3431']}\n",
      "{'name': '1207-3932', 'name_list': ['TWA 27', '2MASS J12073346-3932539']}\n"
     ]
    }
   ],
   "source": [
    "cursor = dwarfs.find({'$text': {'$search': 'TWA'}}, {'_id': 0, 'name': 1, 'name_list': 1})\n",
    "for doc in cursor:\n",
    "    print(doc)"
   ]
  },
  {
   "cell_type": "markdown",
   "metadata": {},
   "source": [
    "For partial name matching, you can also use regular expressions:"
   ]
  },
  {
   "cell_type": "code",
   "execution_count": 24,
   "metadata": {},
   "outputs": [
    {
     "name": "stdout",
     "output_type": "stream",
     "text": [
      "{'name': '1207-3932', 'name_list': ['TWA 27', '2MASS J12073346-3932539']}\n",
      "{'name': '2208+2921', 'name_list': ['2MASSW J2208136+292121', ' 2MASS J22081363+2921215', ' 2MASSW J2208136+292121']}\n",
      "{'name': '0727+1710', 'name_list': ['2MASSI J0727182+171001', ' 2MASS J07271824+1710012', ' WISEP J072719.13+170952.0', ' LEHPM 2-461']}\n",
      "{'name': '1245-4429', 'name_list': ['TWA 29', ' 2MASS J12451416-4429077', ' DENIS J124514.1-442907']}\n",
      "{'name': '0334-4953', 'name_list': ['2MASS J03341218-4953322', ' DENIS-P J033411.3-495333', ' 2MASSI J0334114-495334', ' LEHPM 3396']}\n",
      "{'name': '0248-1651', 'name_list': ['LP 771-21', ' 2MASS J02484096-1651249', ' BR 0246-1703', ' WISEP J024840.95-165124.8']}\n"
     ]
    }
   ],
   "source": [
    "cursor = dwarfs.find({'name_list': {'$regex': '12'}}, {'_id': 0, 'name': 1, 'name_list': 1})\n",
    "for doc in cursor:\n",
    "    print(doc)"
   ]
  },
  {
   "cell_type": "markdown",
   "metadata": {},
   "source": [
    "If you wanted to, you could now go back and re-create the Python `BrownDwarf` class objects with the data from the database. In practice, this is a little tricky since the JSON return doesn't explictly tell you what dataclass it came from. Below is a rough example of how you could manually re-build the dataclass, though I've seen StackOverflow examples that can set this up a bit more automatically."
   ]
  },
  {
   "cell_type": "code",
   "execution_count": 25,
   "metadata": {},
   "outputs": [
    {
     "name": "stdout",
     "output_type": "stream",
     "text": [
      "{'source_id': 11, 'name': '1207-3932', 'coords': {'ra': 181.889, 'dec': -39.548}, 'J': {'value': 12.99, 'error': 0.03, 'unit': 'mag'}, 'H': {'value': 12.39, 'error': 0.03, 'unit': 'mag'}, 'Ks': {'value': 11.95, 'error': 0.03, 'unit': 'mag'}, 'spectral_type': 'M8.0', 'name_list': ['TWA 27', '2MASS J12073346-3932539']}\n"
     ]
    }
   ],
   "source": [
    "cursor = dwarfs.find({'source_id': 11})\n",
    "doc = list(cursor)[0]\n",
    "del doc['_id']\n",
    "print(doc)"
   ]
  },
  {
   "cell_type": "code",
   "execution_count": 26,
   "metadata": {},
   "outputs": [
    {
     "name": "stdout",
     "output_type": "stream",
     "text": [
      "Photometry(value=12.99, error=0.03, unit='mag')\n",
      "Coords(ra=181.889, dec=-39.548)\n"
     ]
    }
   ],
   "source": [
    "j = Photometry(**doc['J'])\n",
    "h = Photometry(**doc['H'])\n",
    "ks = Photometry(**doc['Ks'])\n",
    "c = Coords(**doc['coords'])\n",
    "print(j)\n",
    "print(c)"
   ]
  },
  {
   "cell_type": "code",
   "execution_count": 27,
   "metadata": {},
   "outputs": [
    {
     "name": "stdout",
     "output_type": "stream",
     "text": [
      "BrownDwarf(source_id=11, name='1207-3932', coords=Coords(ra=181.889, dec=-39.548), J=Photometry(value=12.99, error=0.03, unit='mag'), H=Photometry(value=12.39, error=0.03, unit='mag'), Ks=Photometry(value=11.95, error=0.03, unit='mag'), spectral_type='M8.0', name_list=['TWA 27', '2MASS J12073346-3932539'])\n"
     ]
    }
   ],
   "source": [
    "del doc['coords']\n",
    "del doc['J']\n",
    "del doc['H']\n",
    "del doc['Ks']\n",
    "new_bd = BrownDwarf(**doc, coords=c, J=j, H=h, Ks=ks)\n",
    "print(new_bd)"
   ]
  },
  {
   "cell_type": "code",
   "execution_count": 28,
   "metadata": {},
   "outputs": [
    {
     "name": "stdout",
     "output_type": "stream",
     "text": [
      "BrownDwarf(source_id=11, name='1207-3932', coords=Coords(ra=181.889, dec=-39.548), J=Photometry(value=12.99, error=0.03, unit='mag'), H=Photometry(value=12.39, error=0.03, unit='mag'), Ks=Photometry(value=11.95, error=0.03, unit='mag'), spectral_type='M8.0', name_list=['TWA 27', '2MASS J12073346-3932539'])\n"
     ]
    }
   ],
   "source": [
    "# Original, for comparison\n",
    "print(bd)"
   ]
  },
  {
   "cell_type": "code",
   "execution_count": 29,
   "metadata": {
    "scrolled": true
   },
   "outputs": [
    {
     "data": {
      "text/plain": [
       "True"
      ]
     },
     "execution_count": 29,
     "metadata": {},
     "output_type": "execute_result"
    }
   ],
   "source": [
    "bd == new_bd"
   ]
  },
  {
   "cell_type": "markdown",
   "metadata": {},
   "source": [
    "There are a lot more ways you can query this database and, as you can image, lots more ways to create and work with dataclasses. I'll leave it up to the reader to examine the documentation and play around with the code. I can recommend downloading the MongoDB Compass application from [https://www.mongodb.com/products/compass](https://www.mongodb.com/products/compass) which provides a nice GUI to directly access your database. Some advanced queries aren't possible in it, but it can serve as useful introduction to how to explore the data.\n",
    "\n",
    "![compass screenshot](../figures/mongodb_compass.png \"Example Compass Screenshot\")"
   ]
  },
  {
   "cell_type": "code",
   "execution_count": null,
   "metadata": {},
   "outputs": [],
   "source": []
  }
 ],
 "metadata": {
  "kernelspec": {
   "display_name": "Python 3",
   "language": "python",
   "name": "python3"
  },
  "language_info": {
   "codemirror_mode": {
    "name": "ipython",
    "version": 3
   },
   "file_extension": ".py",
   "mimetype": "text/x-python",
   "name": "python",
   "nbconvert_exporter": "python",
   "pygments_lexer": "ipython3",
   "version": "3.7.3"
  }
 },
 "nbformat": 4,
 "nbformat_minor": 2
}
