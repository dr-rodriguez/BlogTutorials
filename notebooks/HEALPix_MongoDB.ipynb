{
 "cells": [
  {
   "cell_type": "markdown",
   "metadata": {},
   "source": [
    "# MongoDB Cone Searches with HEALPix\n",
    "\n",
    "In this notebook, we will go over how you can implement simple astronomical cone searches using HEALPix in a NoSQL database. We'll use MongoDB and the `BrownDwarf` collection we create in the first tutorial. Now, MongoDB *does* have spatial indexing capabilities, but we'll go over those in a future post. In this case, we will assume we don't know or can't use these and thus build our own way to quickly search for objects using sky coordinates."
   ]
  },
  {
   "cell_type": "markdown",
   "metadata": {},
   "source": [
    "## HEALPix\n",
    "\n",
    "HEALPix stands for Hierarchical Equal Area isoLatitude Pixelisation and is an algorithm for dividing up the sky in equal-area pixels. This is in contrast to other algorithms like HTM, Hierarchical Triangular Mesh, which divide up the sky in triangles of equal-length. We'll stick to HEALPix since it's used as the basis for several IVOA standards like MOC and HiPS. There are two main Python packages for working with HEALPix- `healpy` and `astropy-healpix`. For simplicity, I'll only use the later code here. For more details, refer to the documentation."
   ]
  },
  {
   "cell_type": "code",
   "execution_count": 16,
   "metadata": {},
   "outputs": [
    {
     "name": "stdout",
     "output_type": "stream",
     "text": [
      "NSide:  32768\n",
      "6.441537022157636 arcsec\n",
      "Number of pixels:  12884901888\n"
     ]
    }
   ],
   "source": [
    "from astropy_healpix import HEALPix, pixel_resolution_to_nside\n",
    "from astropy.coordinates import ICRS, SkyCoord\n",
    "from astropy import units as u\n",
    "\n",
    "# nside required for chosen resolution\n",
    "resolution = 10 * u.arcsec\n",
    "nside = pixel_resolution_to_nside(resolution, round='up')\n",
    "print('NSide: ', nside)\n",
    "\n",
    "# HEALPix object with that resolution\n",
    "hp = HEALPix(nside=nside, order='nested', frame=ICRS())\n",
    "\n",
    "print(hp.pixel_resolution.to(u.arcsec))\n",
    "print('Number of pixels: ', hp.npix)"
   ]
  },
  {
   "cell_type": "markdown",
   "metadata": {},
   "source": [
    "Note that HEALPix values could be equatorial, galactic, ecliptic and their numbering can follow two schemes- RING or NESTED. For consistency with other standards (namely MOC), we'll chose ICRS equatorial and NESTED. In the code above, I create a HEALPix object with pixel resolution that's at least 10 arcseconds or better. That does mean that objects closer than my resolution will be inside the same pixel. For practical applications, you'll probably want a resolution comparable to your PSF or instrument pixel size.\n",
    "\n",
    "The nside is just a measure of resolution- it's the number of pixels along an edge of the highest level HEALPix pixels. The larger it is, the smaller the pixels, and the more precise your representation. At the chosen precision level, you can see that there are over 12 billion pixels, each represented with an integer value. For example, here's what pixel 42 at this resolution level correponds to in real-sky coordinates:"
   ]
  },
  {
   "cell_type": "code",
   "execution_count": 27,
   "metadata": {},
   "outputs": [
    {
     "name": "stdout",
     "output_type": "stream",
     "text": [
      "[0.78523rad] [0.00016276rad]\n",
      "[44.99038696] [0.00932548]\n"
     ]
    }
   ],
   "source": [
    "lon, lat = hp.healpix_to_lonlat([42])\n",
    "print(lon, lat)\n",
    "print(lon.degree, lat.degree)"
   ]
  },
  {
   "cell_type": "code",
   "execution_count": 13,
   "metadata": {
    "scrolled": false
   },
   "outputs": [
    {
     "name": "stdout",
     "output_type": "stream",
     "text": [
      "<SkyCoord (ICRS): (ra, dec) in deg\n",
      "    [(44.99038696, 0.00932548)]>\n"
     ]
    }
   ],
   "source": [
    "coords = hp.healpix_to_skycoord([42])\n",
    "print(coords)"
   ]
  },
  {
   "cell_type": "code",
   "execution_count": 25,
   "metadata": {},
   "outputs": [
    {
     "name": "stdout",
     "output_type": "stream",
     "text": [
      "9542850888\n"
     ]
    }
   ],
   "source": [
    "# Now, for the reverse\n",
    "coords = SkyCoord(ra=34*u.deg, dec=-23*u.deg)\n",
    "print(hp.skycoord_to_healpix(coords))"
   ]
  },
  {
   "cell_type": "markdown",
   "metadata": {},
   "source": [
    "With this you can probably start putting things togeter- if we can store object locations as integers, then it's just a matter of comparing lists of integers to see if my search area intersects any physical objects. Let's have a look at one more built-in method of `astropy-healpix`:"
   ]
  },
  {
   "cell_type": "code",
   "execution_count": 28,
   "metadata": {
    "scrolled": true
   },
   "outputs": [
    {
     "name": "stdout",
     "output_type": "stream",
     "text": [
      "6988\n",
      "[9542850888 9542850889 9542850891 9542850890 9542850847 9542850845\n",
      " 9542850839 9542850882 9542850883 9542850886]\n"
     ]
    }
   ],
   "source": [
    "coords = SkyCoord(ra=34*u.deg, dec=-23*u.deg)\n",
    "hp_to_search = hp.cone_search_skycoord(coords, radius=5 * u.arcmin)\n",
    "print(len(hp_to_search))\n",
    "print(hp_to_search[0:10])"
   ]
  },
  {
   "cell_type": "markdown",
   "metadata": {},
   "source": [
    "This cone search function provides all HEALPix pixels that are in the specified area. Note that because of our chosen resolution level, as well as the size of the cone search, there can be a lot of pixels returned. In this example, nearly 7000 integers were returned. If you have an arbitrary shape, perhaps one defined by an STC-S polygon, it's not too hard to code up something that will return all pixels inside your shape."
   ]
  },
  {
   "cell_type": "markdown",
   "metadata": {},
   "source": [
    "## MongoDB Updates\n",
    "\n",
    "Now that we have prototyped how to create HEALPix values for target RA/Dec and for cone searches, let's update the `BrownDwarf` collection we previously generated in the first tutorial to include these values."
   ]
  },
  {
   "cell_type": "code",
   "execution_count": null,
   "metadata": {},
   "outputs": [],
   "source": []
  },
  {
   "cell_type": "markdown",
   "metadata": {},
   "source": [
    "## Cone Search Function\n",
    "\n",
    "Finally, let's create a utility wrapper to perform these cone searches against the database without having the user calculate HEALPix values manually."
   ]
  },
  {
   "cell_type": "code",
   "execution_count": null,
   "metadata": {},
   "outputs": [],
   "source": []
  }
 ],
 "metadata": {
  "kernelspec": {
   "display_name": "Python 3",
   "language": "python",
   "name": "python3"
  },
  "language_info": {
   "codemirror_mode": {
    "name": "ipython",
    "version": 3
   },
   "file_extension": ".py",
   "mimetype": "text/x-python",
   "name": "python",
   "nbconvert_exporter": "python",
   "pygments_lexer": "ipython3",
   "version": "3.7.3"
  }
 },
 "nbformat": 4,
 "nbformat_minor": 2
}
