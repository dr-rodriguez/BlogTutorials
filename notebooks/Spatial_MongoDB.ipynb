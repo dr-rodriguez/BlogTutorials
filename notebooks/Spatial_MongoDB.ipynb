{
 "cells": [
  {
   "cell_type": "markdown",
   "metadata": {},
   "source": [
    "# Spatial Queries with MongoDB\n",
    "\n",
    "In this notebook, we will go over some of the basics in setting up and using spatial queries with a MongoDB database. In particular, we will use the `BrownDwarf` database we created in the [first tutorial](https://github.com/dr-rodriguez/BlogTutorials/blob/master/notebooks/DataClass_MongoDB.ipynb)."
   ]
  },
  {
   "cell_type": "markdown",
   "metadata": {},
   "source": [
    "## GeoJSON\n",
    "\n",
    "MongoDB uses [GeoJSON objects](https://docs.mongodb.com/manual/reference/geojson/index.html) and [2dsphere indexes](https://docs.mongodb.com/manual/core/2dsphere/) to store geometry information in its database. It's actually fairly straightforward to create an object of this type. You can create polygons, multipolygons, points, ranges (aka, linestrings), but unfortunately cannot create circles. If you wanted a circle you would have to code in an N-point polygon to approximate it, where N would be some moderately large number depending on how precise you want to be."
   ]
  },
  {
   "cell_type": "code",
   "execution_count": 1,
   "metadata": {
    "scrolled": false
   },
   "outputs": [
    {
     "name": "stdout",
     "output_type": "stream",
     "text": [
      "{'type': 'Point', 'coordinates': [42.0, -23.0]}\n",
      "{'type': 'Polygon', 'coordinates': [[[0.0, 0.0], [3.0, 6.0], [6.0, 1.0], [0.0, 0.0]]]}\n"
     ]
    }
   ],
   "source": [
    "# Example point for an object at lon/lat 42, -23\n",
    "geojson = { 'type': \"Point\", 'coordinates': [ 42., -23. ] }\n",
    "print(geojson)\n",
    "\n",
    "# Example simple polygon\n",
    "geojson = {\n",
    "  'type': \"Polygon\",\n",
    "  'coordinates': [ [ [ 0. , 0. ] , [ 3. , 6. ] , [ 6. , 1. ] , [ 0. , 0.  ] ] ]\n",
    "}\n",
    "print(geojson)"
   ]
  },
  {
   "cell_type": "markdown",
   "metadata": {},
   "source": [
    "It's also possible to write up a function to convert a Virtual Observatory [Space-Time Coordinate](http://www.ivoa.net/documents/latest/STC.html) string to a geoJSON object. Here's a brief example that works with a simple polygon STC-S."
   ]
  },
  {
   "cell_type": "code",
   "execution_count": 2,
   "metadata": {},
   "outputs": [
    {
     "name": "stdout",
     "output_type": "stream",
     "text": [
      "POLYGON ICRS 0. 0. 3. 6. 6. 1. 0. 0.\n",
      "{'type': 'Polygon', 'coordinates': [[[0.0, 0.0], [3.0, 6.0], [6.0, 1.0], [0.0, 0.0]]]}\n"
     ]
    }
   ],
   "source": [
    "def stcs_to_geojson(stcs):\n",
    "    elems = stcs.split()\n",
    "    if elems[0].upper() != 'POLYGON': \n",
    "        print('Only works for POLYGON')\n",
    "        return\n",
    "    start = 1\n",
    "    try:\n",
    "        x = float(elems[start])\n",
    "    except ValueError:\n",
    "        start += 1\n",
    "        \n",
    "    points = []\n",
    "    vertex = []\n",
    "    # Loop over values, adding them to a points array\n",
    "    for i, elem in enumerate(elems[start:]):\n",
    "        if i%2 == 0 and i != 0:\n",
    "            points.append(vertex)\n",
    "            vertex = [float(elem)]\n",
    "        else:\n",
    "            vertex.append(float(elem))\n",
    "            \n",
    "    # Add last vertex\n",
    "    points.append(vertex)\n",
    "            \n",
    "    geojson = {\n",
    "        'type': \"Polygon\",\n",
    "        'coordinates': [ points ]\n",
    "    }\n",
    "    return geojson\n",
    "\n",
    "stcs = \"POLYGON ICRS 0. 0. 3. 6. 6. 1. 0. 0.\"\n",
    "print(stcs)\n",
    "print(stcs_to_geojson(stcs))"
   ]
  },
  {
   "cell_type": "markdown",
   "metadata": {},
   "source": [
    "## Loading our Database\n",
    "\n",
    "As in the [HEALPix tutorial](https://github.com/dr-rodriguez/BlogTutorials/blob/master/notebooks/HEALPix_MongoDB.ipynb), we'll update our database to include coordinates in this notation and create an index to search for them. We'll use Points to store the geometries as these are point sources.\n",
    "\n",
    "An important note: in geoJSON, the longitude is constrained to have valid values between -180 and 180 (latitude ranges from -90 and 90). So when we store Right Ascension, we'll want to make the appropriate modifications to store it as a valid longitude."
   ]
  },
  {
   "cell_type": "code",
   "execution_count": 3,
   "metadata": {},
   "outputs": [
    {
     "name": "stdout",
     "output_type": "stream",
     "text": [
      "11 181.889 -39.548 {'type': 'Point', 'coordinates': [1.88900000000001, -39.548]}\n",
      "2 202.95387 -1.280556 {'type': 'Point', 'coordinates': [22.953869999999995, -1.280556]}\n",
      "4 222.106791 10.533056 {'type': 'Point', 'coordinates': [42.10679099999999, 10.533056]}\n",
      "7 219.868167 19.487472 {'type': 'Point', 'coordinates': [39.868167, 19.487472]}\n",
      "14 342.472709 0.734611 {'type': 'Point', 'coordinates': [162.472709, 0.734611]}\n",
      "15 332.05679 29.355972 {'type': 'Point', 'coordinates': [152.05678999999998, 29.355972]}\n",
      "17 6.924875 5.061583 {'type': 'Point', 'coordinates': [-173.075125, 5.061583]}\n",
      "19 327.068041 40.0665 {'type': 'Point', 'coordinates': [147.068041, 40.0665]}\n",
      "20 165.54097 -34.509869 {'type': 'Point', 'coordinates': [-14.459030000000013, -34.509869]}\n",
      "32 63.831417 -9.585167 {'type': 'Point', 'coordinates': [-116.168583, -9.585167]}\n",
      "34 111.826001 17.167 {'type': 'Point', 'coordinates': [-68.173999, 17.167]}\n",
      "36 72.753833 -34.0375 {'type': 'Point', 'coordinates': [-107.246167, -34.0375]}\n",
      "53 228.753459 48.794889 {'type': 'Point', 'coordinates': [48.75345899999999, 48.794889]}\n",
      "61 191.309 -44.485477 {'type': 'Point', 'coordinates': [11.308999999999997, -44.485477]}\n",
      "63 53.537667 -49.893944 {'type': 'Point', 'coordinates': [-126.462333, -49.893944]}\n",
      "80 238.24591 29.81342 {'type': 'Point', 'coordinates': [58.24591000000001, 29.81342]}\n",
      "82 278.90792 32.998497 {'type': 'Point', 'coordinates': [98.90791999999999, 32.998497]}\n",
      "83 236.94662 -24.397028 {'type': 'Point', 'coordinates': [56.946619999999996, -24.397028]}\n",
      "86 9.067376 18.352889 {'type': 'Point', 'coordinates': [-170.932624, 18.352889]}\n",
      "91 79.692333 -27.946028 {'type': 'Point', 'coordinates': [-100.307667, -27.946028]}\n",
      "96 42.170846 -16.856022 {'type': 'Point', 'coordinates': [-137.82915400000002, -16.856022]}\n",
      "98 40.297958 -3.449639 {'type': 'Point', 'coordinates': [-139.702042, -3.449639]}\n"
     ]
    }
   ],
   "source": [
    "import pymongo\n",
    "\n",
    "client = pymongo.MongoClient()  # default connection (ie, local)\n",
    "db = client['test']  # database\n",
    "dwarfs = db.dwarfs  # collection\n",
    "\n",
    "# Remove any existing coords.loc field\n",
    "dwarfs.update_many({}, {'$unset': {'coords.loc': ''}}) \n",
    "\n",
    "# Loop over those without coords.healpix and set the value\n",
    "cursor = dwarfs.find({'coords.loc': {'$exists': False}})\n",
    "for doc in cursor:\n",
    "    # RA must have values between -180 and 180\n",
    "    geojson = { 'type': \"Point\", 'coordinates': [ doc['coords']['ra']-180., doc['coords']['dec'] ] }\n",
    "    print(doc['source_id'], doc['coords']['ra'], doc['coords']['dec'], geojson)\n",
    "    dwarfs.update_one({'_id': doc['_id']}, {'$set': {'coords.loc': geojson}})"
   ]
  },
  {
   "cell_type": "markdown",
   "metadata": {},
   "source": [
    "And now we create an index using the `pymongo.GEOSPHERE` specification to create a 2dsphere index:"
   ]
  },
  {
   "cell_type": "code",
   "execution_count": 4,
   "metadata": {},
   "outputs": [],
   "source": [
    "if 'geosphere' not in dwarfs.index_information():\n",
    "    dwarfs.create_index([('coords.loc', pymongo.GEOSPHERE)],\n",
    "                          name='geosphere', background=True)"
   ]
  },
  {
   "cell_type": "markdown",
   "metadata": {},
   "source": [
    "With an appropriate 2dsphere index created, you can make use of a variety of operators to search your database. These include `$geoWithin`, which returns objects that are entirely within a geoJSON geometry you specify; `$geoIntersects`, which returns anything that interscets your specified geometry (more useful for when your database contains things like polygons rather than points; `$near` and `$nearSphere`, which returns an ordered list of targets within some `$maxDistance` in meters. This last part should illustrate what problem we'll have: these queries are based on the assumption that you are querying on the Earth's surface. We'll need to make some changes to use them for astronomical sources."
   ]
  },
  {
   "cell_type": "markdown",
   "metadata": {},
   "source": [
    "## Astronomical Modifications\n",
    "\n",
    "The MongoDB implementation of searches across geoJSON coordinates uses the [WGS84](https://spatialreference.org/ref/epsg/4326/) reference system. It's beyond the scope of this notebook to fully describe the World Geodetic System, but for what we are concerned, this models the Earth as an oblate spheroid so we need to take this into account when we construct any queries. \n",
    "<img src=\"figures/768px-WGS84_mean_Earth_radius.png\" alt=\"WGS84\" width=\"400\"/>\n",
    "\n",
    "The way we'll get around this is to calculate the length of one degree, expressed in meters, as a function of latitude. This will allow us to scale our search radius to account for the curvature of the Earth. For clarity, here's the equation I used for computing the radius of curvature along the Meridian:\n",
    "<img src=\"figures/curvature.png\" alt=\"Equation for radius of curvature\" width=\"200\"/>"
   ]
  },
  {
   "cell_type": "code",
   "execution_count": 5,
   "metadata": {},
   "outputs": [],
   "source": [
    "import numpy as np\n",
    "\n",
    "def wgs_scale(lat):\n",
    "    # Get scaling to convert degrees to meters at a given geodetic latitude (declination)\n",
    "    \n",
    "    # Values from WGS 84\n",
    "    a = 6378137.000000000000 # Semi-major axis of Earth\n",
    "    b = 6356752.314140000000 # Semi-minor axis of Earth\n",
    "    e = 0.081819190842600 # eccentricity\n",
    "    angle = np.radians(1.0)\n",
    "    \n",
    "    # Compute radius of curvature along meridian (see https://en.wikipedia.org/wiki/Meridian_arc)\n",
    "    rm = a * (1 - np.power(e, 2)) / np.power( ( (1 - np.power(e, 2) * np.power( np.sin(np.radians(lat)), 2) ) ), 1.5)\n",
    "    \n",
    "    # Compute length of arc at this latitude (meters/degree)\n",
    "    arc = rm * angle\n",
    "    return arc"
   ]
  },
  {
   "cell_type": "markdown",
   "metadata": {},
   "source": [
    "Let's use this to a search for targets with the `$nearSphere` operator."
   ]
  },
  {
   "cell_type": "code",
   "execution_count": 6,
   "metadata": {},
   "outputs": [
    {
     "name": "stdout",
     "output_type": "stream",
     "text": [
      "40.0 12.0 1106222.9012842258\n",
      "4 222.106791 10.533056 {'type': 'Point', 'coordinates': [42.10679099999999, 10.533056]}\n",
      "7 219.868167 19.487472 {'type': 'Point', 'coordinates': [39.868167, 19.487472]}\n"
     ]
    }
   ],
   "source": [
    "ra, dec = 220., 12.\n",
    "lon, lat = ra-180., dec\n",
    "radius = 10 # degrees\n",
    "radius *= wgs_scale(lat) # meters\n",
    "print(lon, lat, radius)\n",
    "\n",
    "# Perform the search\n",
    "cursor = dwarfs.find({'coords.loc': {\n",
    "    '$nearSphere': { \n",
    "        '$geometry': { 'type': 'Point', \n",
    "                      'coordinates': [lon, lat]}, \n",
    "        '$maxDistance': radius\n",
    "    } } })\n",
    "for doc in cursor:\n",
    "    print(doc['source_id'], doc['coords']['ra'], doc['coords']['dec'], doc['coords']['loc'])"
   ]
  },
  {
   "cell_type": "markdown",
   "metadata": {},
   "source": [
    "For simplicity, we can wrap this up in a function as follows:"
   ]
  },
  {
   "cell_type": "code",
   "execution_count": 7,
   "metadata": {},
   "outputs": [],
   "source": [
    "def cone_search(ra, dec, radius, collection=dwarfs, field='coords.loc'):\n",
    "    \n",
    "    scaling = wgs_scale(dec)\n",
    "    meter_radius = radius * scaling\n",
    "    lon, lat = ra-180., dec\n",
    "    \n",
    "    cursor = collection.find({'coords.loc': {\n",
    "    '$nearSphere': { \n",
    "        '$geometry': { 'type': 'Point', \n",
    "                      'coordinates': [lon, lat]}, \n",
    "        '$maxDistance': meter_radius\n",
    "    } } })\n",
    "    \n",
    "    return cursor"
   ]
  },
  {
   "cell_type": "code",
   "execution_count": 8,
   "metadata": {},
   "outputs": [
    {
     "name": "stdout",
     "output_type": "stream",
     "text": [
      "4 222.106791 10.533056 {'type': 'Point', 'coordinates': [42.10679099999999, 10.533056]}\n",
      "7 219.868167 19.487472 {'type': 'Point', 'coordinates': [39.868167, 19.487472]}\n"
     ]
    }
   ],
   "source": [
    "# Use the function\n",
    "cursor = cone_search(220., 12., 10.)\n",
    "for doc in cursor:\n",
    "    print(doc['source_id'], doc['coords']['ra'], doc['coords']['dec'], doc['coords']['loc'])"
   ]
  },
  {
   "cell_type": "markdown",
   "metadata": {},
   "source": [
    "If you want to mix and match queries, for example, a cone search just for L dwarfs, you can make use of the [aggregation operator `$geoNear`](https://docs.mongodb.com/manual/reference/operator/aggregation/geoNear/#pipe._S_geoNear). Here's an example:"
   ]
  },
  {
   "cell_type": "code",
   "execution_count": 9,
   "metadata": {},
   "outputs": [
    {
     "name": "stdout",
     "output_type": "stream",
     "text": [
      "4 L3.5 222.106791 10.533056 2.5501345035508494\n",
      "7 L1.0 219.868167 19.487472 7.530547086210149\n",
      "2 L6.0 202.95387 -1.280556 21.663684937415425\n",
      "80 L0.0 238.24591 29.81342 24.683344761956157\n",
      "53 L6.0 228.753459 48.794889 37.54508985231938\n",
      "19 L6.0 327.068041 40.0665 95.16875104196578\n",
      "15 L3.0 332.05679 29.355972 103.04662327506185\n",
      "14 L1.0 342.472709 0.734611 122.3150925795404\n",
      "86 L3.5 9.067376 18.352889 137.74573289868712\n",
      "91 L0.0 79.692333 -27.946028 140.30110792007784\n",
      "36 L0.5 72.753833 -34.0375 143.4554019787131\n",
      "98 L0.0 40.297958 -3.449639 172.59272649495955\n"
     ]
    }
   ],
   "source": [
    "# For more details: https://docs.mongodb.com/manual/reference/operator/aggregation/geoNear/#pipe._S_geoNear\n",
    "cursor = dwarfs.aggregate( [\n",
    "   {\n",
    "      '$geoNear': {\n",
    "         'near': { 'type': \"Point\", 'coordinates': [ 40., 12. ] },\n",
    "         'spherical': True,\n",
    "         'query': { 'spectral_type': {'$regex' : 'L'}  },\n",
    "         'distanceField': \"distance\"\n",
    "      }\n",
    "   }\n",
    "] )\n",
    "for doc in cursor:\n",
    "    print(doc['source_id'], doc['spectral_type'], doc['coords']['ra'], doc['coords']['dec'], \n",
    "          doc['distance']/wgs_scale(doc['coords']['dec']))  # convert calculated distance back to degrees"
   ]
  },
  {
   "cell_type": "markdown",
   "metadata": {},
   "source": [
    "Note that the aggregation result added a `distance` column containing the distance to each result. This was output in meters, but I scaled it back to degrees using the same function `wgs_scale`. Had I supplied a maxDistance option or a limit option I could have reduced the number of outputs. In this case, I got every L dwarf in the database sorted by distance from my supplied coordinates. It should be fairly straight forward to udpate our cone search to also take in optional query parameters for a more robust search."
   ]
  },
  {
   "cell_type": "code",
   "execution_count": 10,
   "metadata": {},
   "outputs": [],
   "source": [
    "def cone_search_advanced(ra, dec, radius, query={}, collection=dwarfs, field='coords.loc', distance_field='distance'):\n",
    "    \n",
    "    scaling = wgs_scale(dec)\n",
    "    meter_radius = radius * scaling\n",
    "    lon, lat = ra-180., dec\n",
    "    \n",
    "    cursor = dwarfs.aggregate( [\n",
    "   {\n",
    "      '$geoNear': {\n",
    "         'near': { 'type': \"Point\", 'coordinates': [ lon, lat ] },\n",
    "         'spherical': True,\n",
    "         'maxDistance': meter_radius,\n",
    "         'query': query,\n",
    "         'distanceField': distance_field\n",
    "      }\n",
    "   } ] )\n",
    "    \n",
    "    return cursor"
   ]
  },
  {
   "cell_type": "code",
   "execution_count": 11,
   "metadata": {},
   "outputs": [
    {
     "name": "stdout",
     "output_type": "stream",
     "text": [
      "83 M9.0 236.94662 -24.397028 15.65\n",
      "61 M9.0 191.309 -44.485477 31.86\n",
      "11 M8.0 181.889 -39.548 36.27\n"
     ]
    }
   ],
   "source": [
    "# All M-dwarfs within 45 degrees of 220, -32, sorted by distance\n",
    "cursor = cone_search_advanced(220., -23., radius=45, query={'spectral_type' : {'$regex': 'M'}})\n",
    "for doc in cursor:\n",
    "    print(doc['source_id'], doc['spectral_type'], doc['coords']['ra'], doc['coords']['dec'], \n",
    "          round(doc['distance']/wgs_scale(doc['coords']['dec']), 2))  # convert calculated distance back to degrees"
   ]
  },
  {
   "cell_type": "markdown",
   "metadata": {},
   "source": [
    "## Final Thoughts\n",
    "\n",
    "In this notebook, we briefly went over the geoJSON notation and how to use geospatial queries with MongoDB. There is a lot of details we glossed over, so I encourage you to look over the documentation based on what you want to do. In contrast to the HEALPix tutorial, these searches are faster as they do not require us computing a large range of pixel values to query against. However, we do run into conversion issues as MongoDB uses a WGS84 reference system for its coordinate searches as opposed to a perfect sphere."
   ]
  }
 ],
 "metadata": {
  "kernelspec": {
   "display_name": "Python 3",
   "language": "python",
   "name": "python3"
  },
  "language_info": {
   "codemirror_mode": {
    "name": "ipython",
    "version": 3
   },
   "file_extension": ".py",
   "mimetype": "text/x-python",
   "name": "python",
   "nbconvert_exporter": "python",
   "pygments_lexer": "ipython3",
   "version": "3.7.3"
  }
 },
 "nbformat": 4,
 "nbformat_minor": 2
}
